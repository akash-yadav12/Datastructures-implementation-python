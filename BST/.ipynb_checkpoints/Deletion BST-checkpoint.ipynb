{
 "cells": [
  {
   "cell_type": "code",
   "execution_count": 1,
   "metadata": {},
   "outputs": [],
   "source": [
    "class Node:\n",
    "    def __init__(self,val):\n",
    "        self.val = val\n",
    "        self.left = None\n",
    "        self.right = None"
   ]
  },
  {
   "cell_type": "code",
   "execution_count": 4,
   "metadata": {},
   "outputs": [],
   "source": [
    "#insertion\n",
    "def insert(root,key):\n",
    "    if not root:\n",
    "        return Node(key)\n",
    "    else:\n",
    "        if root.val < key:\n",
    "            root.right = insert(root.right,key)\n",
    "        elif root.val > key:\n",
    "            root.left = insert(root.left,key)\n",
    "        else:\n",
    "            return root\n",
    "    return root\n",
    "\n",
    "def inorder(root):\n",
    "    cur = root\n",
    "    stack = []\n",
    "    while True:\n",
    "        if cur is not None:\n",
    "            stack.append(cur)\n",
    "            cur = cur.left\n",
    "        elif stack:\n",
    "            cur = stack.pop()\n",
    "            print(cur.val,end='-->')\n",
    "            cur = cur.right\n",
    "        else:\n",
    "            break\n",
    "        \n",
    "#deletion in BST\n",
    "def deletion(root,key):\n",
    "    if not root:\n",
    "        return root\n",
    "    if key < root.val:\n",
    "        root.left = deletion(root.left,key)\n",
    "    elif key > root.val:\n",
    "        root.right = deletion(root.right,key)\n",
    "    else:\n",
    "        if root.left is None:\n",
    "            temp = root.right\n",
    "            root = None\n",
    "            return temp\n",
    "        if root.left is None:\n",
    "            temp = root.left\n",
    "            root = None\n",
    "            return temp\n",
    "        \n",
    "        temp = minValueNode(root.right)\n",
    "        root.val = temp.val\n",
    "        root.right = deletion(root.right,temp.val)\n",
    "    return root\n",
    "\n",
    "#to find inorder successor\n",
    "def minValueNode(root):\n",
    "    cur = root\n",
    "    while cur.left:\n",
    "        cur = cur.left \n",
    "    return cur\n",
    "        "
   ]
  },
  {
   "cell_type": "code",
   "execution_count": 5,
   "metadata": {},
   "outputs": [
    {
     "name": "stdout",
     "output_type": "stream",
     "text": [
      "20-->30-->40-->50-->60-->70-->80-->\n",
      "20-->30-->40-->60-->70-->80-->"
     ]
    }
   ],
   "source": [
    "root = Node(50)\n",
    "root = insert(root,30)\n",
    "root = insert(root,20)\n",
    "root = insert(root,40)\n",
    "root = insert(root,70)\n",
    "root = insert(root,60)\n",
    "root = insert(root,80)\n",
    "inorder(root)\n",
    "print()\n",
    "root = deletion(root,50)\n",
    "inorder(root)\n"
   ]
  },
  {
   "cell_type": "code",
   "execution_count": null,
   "metadata": {},
   "outputs": [],
   "source": []
  }
 ],
 "metadata": {
  "kernelspec": {
   "display_name": "Python 3",
   "language": "python",
   "name": "python3"
  },
  "language_info": {
   "codemirror_mode": {
    "name": "ipython",
    "version": 3
   },
   "file_extension": ".py",
   "mimetype": "text/x-python",
   "name": "python",
   "nbconvert_exporter": "python",
   "pygments_lexer": "ipython3",
   "version": "3.7.4"
  }
 },
 "nbformat": 4,
 "nbformat_minor": 2
}
