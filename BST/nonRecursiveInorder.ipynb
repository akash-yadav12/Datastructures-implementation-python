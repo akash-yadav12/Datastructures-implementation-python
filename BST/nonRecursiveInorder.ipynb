{
 "cells": [
  {
   "cell_type": "code",
   "execution_count": 8,
   "metadata": {},
   "outputs": [],
   "source": [
    "class Node:\n",
    "    def __init__(self,data):\n",
    "        self.val = data\n",
    "        self.left = None\n",
    "        self.right = None\n",
    "\n",
    "#insertion\n",
    "def insert(root,key):\n",
    "    if root is None:\n",
    "        return Node(key)\n",
    "    else:\n",
    "        if root.val == key:\n",
    "            return root\n",
    "        elif root.val < key:\n",
    "            root.right = insert(root.right,key)\n",
    "        elif root.val > key:\n",
    "            root.left = insert(root.left,key)\n",
    "    return root\n",
    "\n",
    "#inorder traversal recursive\n",
    "def inorder(root):\n",
    "    if root:\n",
    "        inorder(root.left)\n",
    "        print(root.val,end='-->')\n",
    "        inorder(root.right)\n",
    "        \n",
    "#inorder non-recursive\n",
    "def norecurrIn(root):\n",
    "    stack = []\n",
    "    cur = root\n",
    "    while True:\n",
    "        if cur:\n",
    "            stack.append(cur)\n",
    "            cur = cur.left\n",
    "        elif stack:\n",
    "            cur = stack.pop()\n",
    "            print(cur.val,end='-->')\n",
    "            cur = cur.right\n",
    "        else:\n",
    "            break    "
   ]
  },
  {
   "cell_type": "code",
   "execution_count": 9,
   "metadata": {},
   "outputs": [
    {
     "name": "stdout",
     "output_type": "stream",
     "text": [
      "20-->30-->40-->50-->60-->70-->80-->\n",
      "20-->30-->40-->50-->60-->70-->80-->"
     ]
    }
   ],
   "source": [
    "root = Node(50)\n",
    "root = insert(root,30)\n",
    "root = insert(root,20)\n",
    "root = insert(root,40)\n",
    "root = insert(root,70)\n",
    "root = insert(root,60)\n",
    "root = insert(root,80)\n",
    "inorder(root)\n",
    "print()\n",
    "norecurrIn(root)"
   ]
  },
  {
   "cell_type": "code",
   "execution_count": null,
   "metadata": {},
   "outputs": [],
   "source": []
  }
 ],
 "metadata": {
  "kernelspec": {
   "display_name": "Python 3",
   "language": "python",
   "name": "python3"
  },
  "language_info": {
   "codemirror_mode": {
    "name": "ipython",
    "version": 3
   },
   "file_extension": ".py",
   "mimetype": "text/x-python",
   "name": "python",
   "nbconvert_exporter": "python",
   "pygments_lexer": "ipython3",
   "version": "3.7.4"
  }
 },
 "nbformat": 4,
 "nbformat_minor": 2
}
