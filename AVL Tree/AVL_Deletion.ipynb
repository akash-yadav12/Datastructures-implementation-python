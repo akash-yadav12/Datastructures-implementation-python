{
 "cells": [
  {
   "cell_type": "code",
   "execution_count": 6,
   "metadata": {},
   "outputs": [],
   "source": [
    "class TreeNode:\n",
    "    def __init__(self,val):\n",
    "        self.val = val\n",
    "        self.left = None\n",
    "        self.right = None\n",
    "        self.height = 1"
   ]
  },
  {
   "cell_type": "code",
   "execution_count": 16,
   "metadata": {},
   "outputs": [],
   "source": [
    "def insert(root,key):\n",
    "    if not root:\n",
    "        return TreeNode(key)\n",
    "    if root.val < key:\n",
    "        root.right = insert(root.right, key)\n",
    "    elif root.val > key:\n",
    "        root.left = insert(root.left,key)\n",
    "    root.height = 1 + max(getHeight(root.left), getHeight(root.right))\n",
    "    balance = getBalance(root)\n",
    "    if balance > 1 and key < root.left.val:\n",
    "        return rightRotate(root)\n",
    "    if balance < -1 and key > root.right.val:\n",
    "        return leftRotate(root)\n",
    "    if balance > 1 and key > root.left.val:\n",
    "        root.left = leftRotate(root.left)\n",
    "        return rightRotate(root)\n",
    "    if balance < -1 and key < root.right.val:\n",
    "        root.right = rightrotate(root.right)\n",
    "        return leftRotate(root)\n",
    "    return root\n",
    "def getBalance(root):\n",
    "    if not root:\n",
    "        return 0\n",
    "    return (getHeight(root.left) - getHeight(root.right))\n",
    "def getHeight(root):\n",
    "    if not root:\n",
    "        return 0\n",
    "    return root.height"
   ]
  },
  {
   "cell_type": "code",
   "execution_count": 17,
   "metadata": {},
   "outputs": [],
   "source": [
    "def leftRotate(z):\n",
    "    y = z.right\n",
    "    t = y.left\n",
    "    \n",
    "    y.left = z\n",
    "    z.right = t\n",
    "    \n",
    "    z.height = 1 + max(getHeight(z.left), getHeight(z.right))\n",
    "    y.height = 1 + max(getHeight(y.left), getHeight(y.right))\n",
    "    \n",
    "    return y\n",
    "\n",
    "def rightRotate(z):\n",
    "    y = z.left\n",
    "    t = y.right\n",
    "    \n",
    "    y.right = z\n",
    "    z.left = t\n",
    "    \n",
    "    z.height = 1 + max(getHeight(z.left), getHeight(z.right))\n",
    "    y.height = 1 + max(getHeight(y.left), getHeight(y.right))\n",
    "    \n",
    "    return y\n",
    "    "
   ]
  },
  {
   "cell_type": "code",
   "execution_count": 42,
   "metadata": {},
   "outputs": [],
   "source": [
    "def deletion(root,key):\n",
    "    if not root:\n",
    "        return root\n",
    "    if key < root.val:\n",
    "        root.left = deletion(root.left,key)\n",
    "    elif key > root.val:\n",
    "        root.right = deletion(root.right,key)\n",
    "    else:\n",
    "        if not root.left:\n",
    "            temp = root.right\n",
    "            root = None\n",
    "            return temp\n",
    "        if not root.right:\n",
    "            temp = root.left\n",
    "            root = None\n",
    "            return temp\n",
    "        \n",
    "        temp = minValueNode(root.right)\n",
    "        root.val = temp.val\n",
    "        root.right = deletion(root.right, temp.val)\n",
    "        \n",
    "        \n",
    "        root.height = 1 + max(getHeight(root.left), getHeight(root.right))\n",
    "        balance = getBalance(root)\n",
    "        \n",
    "        if balance > 1 and key < root.left.val:\n",
    "            return leftRotate(root)\n",
    "        if balance > 1 and key > root.left.val:\n",
    "            root.left = leftRotate(root.left)\n",
    "            return rightRotate(root.right)\n",
    "        if balance < -1 and key > root.right.val:\n",
    "            return leftRotate(root)\n",
    "        if balance < -1 and key < root.right.val:\n",
    "            root.right = rightRotate(root.right)\n",
    "            return leftRotate(root)\n",
    "    return root\n",
    "        \n",
    "def minValueNode(root):\n",
    "    if not root and not root.left:\n",
    "        return root\n",
    "    return minValueNode(root.left)\n",
    "\n",
    "        \n",
    "def inorder(root):\n",
    "    if not root:\n",
    "        return root\n",
    "    inorder(root.left)\n",
    "    print(root.val,end=\"-->\")\n",
    "    inorder(root.right)\n",
    "        "
   ]
  },
  {
   "cell_type": "code",
   "execution_count": 43,
   "metadata": {},
   "outputs": [
    {
     "name": "stdout",
     "output_type": "stream",
     "text": [
      "-1-->0-->1-->2-->5-->6-->9-->10-->11-->\n",
      "after deletion\n",
      "-1-->0-->1-->2-->5-->6-->9-->11-->"
     ]
    }
   ],
   "source": [
    "root = None\n",
    "ins_val = [9, 5, 10, 0, 6, 11, -1, 1, 2]\n",
    "\n",
    "for el in ins_val:\n",
    "    root = insert(root,el)\n",
    "\n",
    "inorder(root)\n",
    "print()\n",
    "print('after deletion')\n",
    "\n",
    "root = deletion(root,10)\n",
    "inorder(root)"
   ]
  },
  {
   "cell_type": "code",
   "execution_count": null,
   "metadata": {},
   "outputs": [],
   "source": []
  },
  {
   "cell_type": "code",
   "execution_count": null,
   "metadata": {},
   "outputs": [],
   "source": []
  }
 ],
 "metadata": {
  "kernelspec": {
   "display_name": "Python 3",
   "language": "python",
   "name": "python3"
  },
  "language_info": {
   "codemirror_mode": {
    "name": "ipython",
    "version": 3
   },
   "file_extension": ".py",
   "mimetype": "text/x-python",
   "name": "python",
   "nbconvert_exporter": "python",
   "pygments_lexer": "ipython3",
   "version": "3.7.4"
  }
 },
 "nbformat": 4,
 "nbformat_minor": 2
}
