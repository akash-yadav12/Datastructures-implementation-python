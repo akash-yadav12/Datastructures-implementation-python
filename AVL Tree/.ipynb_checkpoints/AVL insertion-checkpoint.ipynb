{
 "cells": [
  {
   "cell_type": "code",
   "execution_count": 6,
   "metadata": {},
   "outputs": [],
   "source": [
    "class TreeNode:\n",
    "    def __init__(self,val):\n",
    "        self.val = val\n",
    "        self.left = None\n",
    "        self.right = None\n",
    "        self.height = 1 "
   ]
  },
  {
   "cell_type": "code",
   "execution_count": 48,
   "metadata": {},
   "outputs": [],
   "source": [
    "def insert(root,key):\n",
    "    if not root:\n",
    "        return TreeNode(key)\n",
    "#     print(root.val,key)\n",
    "    if key < root.val:\n",
    "        root.left = insert(root.left,key)\n",
    "    elif key > root.val:\n",
    "        root.right = insert(root.right,key)\n",
    "    root.height = 1 + max(getHeight(root.left),getHeight(root.right))\n",
    "    balance = getBalanceFact(root)\n",
    "    #if unbalanced 4 possible cases\n",
    "    #left left case\n",
    "    if balance>1 and key<root.left.val:\n",
    "        return rotateRight(root)\n",
    "    #right right case\n",
    "    if balance < -1 and key>root.right.val:\n",
    "        return rotateLeft(root)\n",
    "    #left right case\n",
    "    if balance > 1 and key>root.left.val:\n",
    "        root.left = rotateLeft(root.left)\n",
    "        return rotateRight(root)\n",
    "    #right left case\n",
    "    if balance < -1 and key < root.right.val:\n",
    "        root.right = rotateRight(root.right)\n",
    "        return rotateLeft(root)\n",
    "    return root        \n",
    "        "
   ]
  },
  {
   "cell_type": "code",
   "execution_count": 49,
   "metadata": {},
   "outputs": [],
   "source": [
    "def rotateLeft(z):\n",
    "    y = z.right\n",
    "    T = y.left\n",
    "    #perform rotation\n",
    "    y.left = z\n",
    "    z.right = T\n",
    "    \n",
    "    #update height\n",
    "    z.height = 1 + max(getHeight(z.left), getHeight(z.right))\n",
    "    y.height = 1 + max(getHeight(y.left), getHeight(y.right))\n",
    "    \n",
    "    #return new root\n",
    "    return y\n",
    "\n",
    "def rotateRight(z):\n",
    "    y = z.left\n",
    "    T = y.right\n",
    "    \n",
    "    #perform rotation\n",
    "    y.right = z\n",
    "    z.left = T\n",
    "    \n",
    "    #update height\n",
    "    z.height = 1 + max(getHeight(z.left),getHeight(z.right))\n",
    "    z.height = 1 + max(getHeight(y.left), getHeight(y.right))\n",
    "    \n",
    "    #return new root\n",
    "    return y\n"
   ]
  },
  {
   "cell_type": "code",
   "execution_count": 50,
   "metadata": {},
   "outputs": [],
   "source": [
    "def getHeight(root):\n",
    "    if not root:\n",
    "        return 0\n",
    "    return root.height\n",
    "\n",
    "def getBalanceFact(root):\n",
    "    if not root:\n",
    "        return 0\n",
    "    return (getHeight(root.left)-getHeight(root.right))\n",
    "\n",
    "def inorder(root):\n",
    "    if not root:\n",
    "        return root\n",
    "    inorder(root.left)\n",
    "    print(root.val,end=\"-->\")\n",
    "    inorder(root.right)"
   ]
  },
  {
   "cell_type": "code",
   "execution_count": 52,
   "metadata": {},
   "outputs": [
    {
     "name": "stdout",
     "output_type": "stream",
     "text": [
      "10-->20-->25-->30-->50-->"
     ]
    }
   ],
   "source": [
    "root = TreeNode(10)\n",
    "root = insert(root,20)\n",
    "root = insert(root,30)\n",
    "root = insert(root,25)\n",
    "root = insert(root,50)\n",
    "root = inorder(root)"
   ]
  },
  {
   "cell_type": "code",
   "execution_count": null,
   "metadata": {},
   "outputs": [],
   "source": []
  },
  {
   "cell_type": "code",
   "execution_count": null,
   "metadata": {},
   "outputs": [],
   "source": []
  },
  {
   "cell_type": "code",
   "execution_count": null,
   "metadata": {},
   "outputs": [],
   "source": []
  }
 ],
 "metadata": {
  "kernelspec": {
   "display_name": "Python 3",
   "language": "python",
   "name": "python3"
  },
  "language_info": {
   "codemirror_mode": {
    "name": "ipython",
    "version": 3
   },
   "file_extension": ".py",
   "mimetype": "text/x-python",
   "name": "python",
   "nbconvert_exporter": "python",
   "pygments_lexer": "ipython3",
   "version": "3.7.4"
  }
 },
 "nbformat": 4,
 "nbformat_minor": 2
}
