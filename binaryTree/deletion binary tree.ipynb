{
 "cells": [
  {
   "cell_type": "code",
   "execution_count": 2,
   "metadata": {},
   "outputs": [],
   "source": [
    "class Node:\n",
    "    def __init__(self,val):\n",
    "        self.val = val\n",
    "        self.left = None\n",
    "        self.right = None"
   ]
  },
  {
   "cell_type": "code",
   "execution_count": 12,
   "metadata": {},
   "outputs": [],
   "source": [
    "def insert(root,key):\n",
    "    if not root:\n",
    "        return Node(key)\n",
    "    else:\n",
    "        if root.val < key:\n",
    "            root.right = insert(root.right,key)\n",
    "        elif root.val > key:\n",
    "            root.left = insert(root.left,key)\n",
    "        else:\n",
    "            return root\n",
    "    return root\n",
    "\n",
    "def inorder(root):\n",
    "    cur = root\n",
    "    stack = []\n",
    "    while True:\n",
    "        if cur is not None:\n",
    "            stack.append(cur)\n",
    "            cur = cur.left\n",
    "        elif stack:\n",
    "            cur = stack.pop()\n",
    "            print(cur.val,end='--->')\n",
    "            cur = cur.right\n",
    "        else:\n",
    "            break\n",
    "\n",
    "#deletion in binary tree\n",
    "def deletion(root,key):\n",
    "    if not root:\n",
    "        return None\n",
    "    if root.left is None and root.right is None:\n",
    "        if root.val == key:\n",
    "            return None\n",
    "        else:\n",
    "            return root\n",
    "    key_node = None\n",
    "    q = []\n",
    "    q.append(root)\n",
    "    while len(q)>0:\n",
    "        temp = q.pop(0)\n",
    "        if temp.val == key:\n",
    "            key_node = temp\n",
    "        if temp.left:\n",
    "            q.append(temp.left)\n",
    "        if temp.right:\n",
    "            q.append(temp.right)\n",
    "    if key_node:\n",
    "        x = temp.val\n",
    "        delDepestNode(root,temp)\n",
    "        key_node.val = x\n",
    "\n",
    "# delete deepest i.e right most node\n",
    "def delDepestNode(root,d_node):\n",
    "    q = []\n",
    "    q.append(root)\n",
    "    \n",
    "    while q:\n",
    "        temp = q.pop(0)\n",
    "        if temp.val is d_node:\n",
    "            temp = None\n",
    "            return\n",
    "        if temp.right:\n",
    "            if temp.right is d_node:\n",
    "                temp.right = None\n",
    "                return\n",
    "            else:\n",
    "                q.append(temp.right)\n",
    "        if temp.left:\n",
    "            if temp.left is d_node:\n",
    "                temp.left = None\n",
    "                return \n",
    "            else:\n",
    "                q.append(temp.left)\n",
    "        \n",
    "            "
   ]
  },
  {
   "cell_type": "code",
   "execution_count": 15,
   "metadata": {},
   "outputs": [
    {
     "name": "stdout",
     "output_type": "stream",
     "text": [
      "20--->30--->40--->50--->60--->70--->80--->\n",
      "20--->80--->40--->50--->60--->70--->"
     ]
    }
   ],
   "source": [
    "root = Node(50)\n",
    "root = insert(root,30)\n",
    "root = insert(root,20)\n",
    "root = insert(root,40)\n",
    "root = insert(root,70)\n",
    "root = insert(root,60)\n",
    "root = insert(root,80)\n",
    "inorder(root)\n",
    "deletion(root,30)\n",
    "print()\n",
    "inorder(root)"
   ]
  },
  {
   "cell_type": "code",
   "execution_count": null,
   "metadata": {},
   "outputs": [],
   "source": []
  }
 ],
 "metadata": {
  "kernelspec": {
   "display_name": "Python 3",
   "language": "python",
   "name": "python3"
  },
  "language_info": {
   "codemirror_mode": {
    "name": "ipython",
    "version": 3
   },
   "file_extension": ".py",
   "mimetype": "text/x-python",
   "name": "python",
   "nbconvert_exporter": "python",
   "pygments_lexer": "ipython3",
   "version": "3.7.4"
  }
 },
 "nbformat": 4,
 "nbformat_minor": 2
}
